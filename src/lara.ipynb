{
 "cells": [
  {
   "cell_type": "markdown",
   "metadata": {},
   "source": [
    "# Does health expenditure depend on economic status or education level?\n"
   ]
  },
  {
   "cell_type": "markdown",
   "metadata": {},
   "source": [
    "## Environment Setup\n"
   ]
  },
  {
   "cell_type": "markdown",
   "metadata": {},
   "source": [
    "The following code:\n",
    "\n",
    "1. Imports the necessary libraries; `matplotlib`, `pandas` and `seaborn`.\n",
    "2. Sets the theme with style `ticks`; font `Verdana`; palette of pastel green, yellow, and red; and context `paper`.\n",
    "3. Sets the figure size to 300 DPI for larger resolution outputs.\n",
    "4. Loads the clean dataset.\n"
   ]
  },
  {
   "cell_type": "code",
   "execution_count": 308,
   "metadata": {},
   "outputs": [],
   "source": [
    "import matplotlib as mpl\n",
    "import pandas as pd\n",
    "import seaborn as sns\n",
    "from matplotlib import pyplot as plt\n",
    "\n",
    "sns.set_theme(\n",
    "    style=\"ticks\",\n",
    "    font=\"Verdana\",\n",
    "    palette=sns.color_palette([\"#77dd77\", \"#ffb347\", \"#ff6961\"]),\n",
    "    context=\"paper\",\n",
    ")\n",
    "\n",
    "mpl.rcParams[\"figure.dpi\"] = 300\n",
    "\n",
    "df = pd.read_csv(\"../dataset/clean.csv\")"
   ]
  },
  {
   "cell_type": "markdown",
   "metadata": {},
   "source": [
    "## Health Expenditure and Economic Status\n"
   ]
  },
  {
   "cell_type": "markdown",
   "metadata": {},
   "source": [
    "The following code:\n",
    "\n",
    "1. Sets title and labels.\n",
    "2. Creates the box plot with economic status at X-axis, education level at hue and health expenditure at Y-axis.\n",
    "3. Creates the swarm plot with the same dimensions to be overlayed on the box plot, so that individual data points are visible.\n",
    "4. Hides redundant swarm plot hue descriptions from the legend.\n",
    "5. Displays the plot.\n"
   ]
  },
  {
   "cell_type": "code",
   "execution_count": null,
   "metadata": {},
   "outputs": [],
   "source": [
    "plt.title(\"Box Plot of Health Expenditure by Economic Status and Education Level\")\n",
    "plt.xlabel(\"Economic Status\")\n",
    "plt.ylabel(\"Health Expenditure (% of GDP)\")\n",
    "\n",
    "sns.boxplot(\n",
    "    x=\"economic_status\",\n",
    "    y=\"health_expenditure_gdp\",\n",
    "    hue=\"education_level\",\n",
    "    data=df,\n",
    "    order=[\"Low\", \"Middle\", \"High\"],\n",
    "    hue_order=[\"Low\", \"Medium\", \"High\"],\n",
    ")\n",
    "\n",
    "sns.stripplot(\n",
    "    x=\"economic_status\",\n",
    "    y=\"health_expenditure_gdp\",\n",
    "    hue=\"education_level\",\n",
    "    data=df,\n",
    "    order=[\"Low\", \"Middle\", \"High\"],\n",
    "    hue_order=[\"Low\", \"Medium\", \"High\"],\n",
    "    dodge=True,\n",
    "    jitter=True,\n",
    "    marker=\"o\",\n",
    "    alpha=0.25,\n",
    "    palette=\"dark:k\",\n",
    ")\n",
    "\n",
    "handles, labels = plt.gca().get_legend_handles_labels()\n",
    "plt.legend(\n",
    "    handles[:3],\n",
    "    labels[:3],\n",
    "    title=\"Education Level\",\n",
    "    bbox_to_anchor=(1.05, 1),\n",
    "    loc=\"upper left\",\n",
    ")\n",
    "\n",
    "plt.show()"
   ]
  },
  {
   "cell_type": "markdown",
   "metadata": {},
   "source": [
    "## Unused Graphs\n",
    "\n",
    "These graphs have been created to explore the data at a high level. They are not used in the final analysis as the graph above seemed to be the most relevant to the research question.\n"
   ]
  },
  {
   "cell_type": "markdown",
   "metadata": {},
   "source": [
    "### Health Expenditure and Education Level\n"
   ]
  },
  {
   "cell_type": "code",
   "execution_count": null,
   "metadata": {},
   "outputs": [],
   "source": [
    "by_economic_status = (\n",
    "    df.groupby(\"education_level\")[\"health_expenditure_gdp\"].mean().reset_index()\n",
    ")\n",
    "\n",
    "sns.barplot(\n",
    "    x=\"education_level\",\n",
    "    y=\"health_expenditure_gdp\",\n",
    "    data=by_economic_status,\n",
    "    order=[\"Low\", \"Medium\", \"High\"],\n",
    "    errorbar=None,\n",
    "    edgecolor=\"black\",\n",
    ")\n",
    "\n",
    "plt.title(\"Box Plot of Health Expenditure by Education Level\")\n",
    "plt.xlabel(\"Education Level\")\n",
    "plt.ylabel(\"Health Expenditure (% of GDP)\")\n",
    "\n",
    "plt.show()"
   ]
  },
  {
   "cell_type": "markdown",
   "metadata": {},
   "source": [
    "### Average Health Expenditure by Year\n"
   ]
  },
  {
   "cell_type": "code",
   "execution_count": null,
   "metadata": {},
   "outputs": [],
   "source": [
    "avg_health_expenditure_yearly = (\n",
    "    df.groupby(\"year\")[\"health_expenditure_gdp\"].mean().reset_index()\n",
    ")\n",
    "\n",
    "sns.lineplot(\n",
    "    x=\"year\", y=\"health_expenditure_gdp\", data=avg_health_expenditure_yearly, marker=\"o\"\n",
    ")\n",
    "plt.xticks(avg_health_expenditure_yearly[\"year\"], rotation=45, ha=\"right\")\n",
    "\n",
    "for x, y in zip(\n",
    "    avg_health_expenditure_yearly[\"year\"],\n",
    "    avg_health_expenditure_yearly[\"health_expenditure_gdp\"],\n",
    "    strict=True,\n",
    "):\n",
    "    plt.text(x, y + 0.05, f\"{y:.2f}\", ha=\"center\", va=\"bottom\", fontsize=6)\n",
    "\n",
    "plt.title(\"Timeline of Average Health Expenditure by Year\")\n",
    "plt.xlabel(\"Year\")\n",
    "plt.ylabel(\"Average Health Expenditure (% of GDP)\")\n",
    "\n",
    "plt.show()"
   ]
  },
  {
   "cell_type": "markdown",
   "metadata": {},
   "source": [
    "### Economic Status Distribution by Year\n"
   ]
  },
  {
   "cell_type": "code",
   "execution_count": null,
   "metadata": {},
   "outputs": [],
   "source": [
    "pivot_df = df.pivot_table(\n",
    "    index=\"year\",\n",
    "    columns=[\"economic_status\"],\n",
    "    values=\"health_expenditure_gdp\",\n",
    "    aggfunc=\"mean\",\n",
    ")\n",
    "\n",
    "pivot_df[[\"Low\", \"Middle\", \"High\"]].plot(kind=\"bar\", stacked=True)\n",
    "\n",
    "plt.title(\"Stacked Bar Chart of Economic Status Distribution Over Years\")\n",
    "plt.xlabel(\"Year\")\n",
    "plt.ylabel(\"Economic Status\")\n",
    "plt.legend(title=\"Economic Status\", bbox_to_anchor=(1.05, 1), loc=\"upper left\")\n",
    "\n",
    "plt.show()"
   ]
  },
  {
   "cell_type": "markdown",
   "metadata": {},
   "source": [
    "### Education Level Distribution by Year\n"
   ]
  },
  {
   "cell_type": "code",
   "execution_count": null,
   "metadata": {},
   "outputs": [],
   "source": [
    "pivot_df = df.pivot_table(\n",
    "    index=\"year\",\n",
    "    columns=\"education_level\",\n",
    "    values=\"country\",\n",
    "    aggfunc=\"size\",\n",
    "    fill_value=0,\n",
    ")\n",
    "\n",
    "pivot_df[[\"Low\", \"Medium\", \"High\"]].plot(kind=\"line\")\n",
    "\n",
    "plt.title(\"Count of Education Levels by Year\")\n",
    "\n",
    "plt.xlabel(\"Year\")\n",
    "plt.xticks(avg_health_expenditure_yearly[\"year\"], rotation=45, ha=\"right\")\n",
    "plt.ylabel(\"Count\")\n",
    "\n",
    "plt.legend(title=\"Education Level\")\n",
    "\n",
    "plt.show()"
   ]
  }
 ],
 "metadata": {
  "kernelspec": {
   "display_name": ".venv",
   "language": "python",
   "name": "python3"
  },
  "language_info": {
   "codemirror_mode": {
    "name": "ipython",
    "version": 3
   },
   "file_extension": ".py",
   "mimetype": "text/x-python",
   "name": "python",
   "nbconvert_exporter": "python",
   "pygments_lexer": "ipython3",
   "version": "3.13.1"
  }
 },
 "nbformat": 4,
 "nbformat_minor": 2
}
