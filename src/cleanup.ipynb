{
 "cells": [
  {
   "cell_type": "markdown",
   "id": "916d12a0",
   "metadata": {},
   "source": [
    "# Cleaning the dataset\n"
   ]
  },
  {
   "cell_type": "markdown",
   "id": "938bbee6",
   "metadata": {},
   "source": [
    "Load the dataset:\n"
   ]
  },
  {
   "cell_type": "code",
   "execution_count": 41,
   "id": "01190203-89a0-40a4-8965-1f93a4d4afd9",
   "metadata": {},
   "outputs": [],
   "source": [
    "import pandas as pd\n",
    "\n",
    "file_path = \"../dataset/dirty.csv\"\n",
    "df_clean = pd.read_csv(file_path, delimiter=\";\")"
   ]
  },
  {
   "cell_type": "markdown",
   "id": "fccab7f8",
   "metadata": {},
   "source": [
    "## Clean Column Names\n"
   ]
  },
  {
   "cell_type": "markdown",
   "id": "a6e638eb",
   "metadata": {},
   "source": [
    "Standardize column names:\n"
   ]
  },
  {
   "cell_type": "code",
   "execution_count": 42,
   "id": "029f3f19-1c1c-4105-9c27-28668a583eb5",
   "metadata": {},
   "outputs": [],
   "source": [
    "df_clean.columns = (\n",
    "    df_clean.columns.str.lower()\n",
    "    .str.lstrip()\n",
    "    .str.rstrip()\n",
    "    .str.replace(\".\", \"_\")\n",
    "    .str.replace(\"-\", \"_\")\n",
    "    .str.replace(\" \", \"_\")\n",
    ")"
   ]
  },
  {
   "cell_type": "markdown",
   "id": "3fb8ee88",
   "metadata": {},
   "source": [
    "Rename specific columns:\n"
   ]
  },
  {
   "cell_type": "code",
   "execution_count": 43,
   "id": "d326912f",
   "metadata": {},
   "outputs": [],
   "source": [
    "df_clean = df_clean.rename(\n",
    "    columns={\n",
    "        \"agegroup\": \"age_group\",\n",
    "        \"health_expenditure%gdp\": \"health_expenditure_gdp\",\n",
    "        \"mortality_rate_per_1000\": \"mortality_rate_per_thousand\",\n",
    "        \"poverty_rate_%\": \"poverty_rate_percent\",\n",
    "    }\n",
    ")"
   ]
  },
  {
   "cell_type": "markdown",
   "id": "8c086f8f",
   "metadata": {},
   "source": [
    "## Clean NA values\n"
   ]
  },
  {
   "cell_type": "markdown",
   "id": "1980e3d9",
   "metadata": {},
   "source": [
    "Remove NA values in categorical data:\n"
   ]
  },
  {
   "cell_type": "code",
   "execution_count": 44,
   "id": "67e544d4",
   "metadata": {},
   "outputs": [],
   "source": [
    "df_clean = df_clean.dropna(\n",
    "    subset=[\n",
    "        \"age_group\",\n",
    "        \"cause_of_death\",\n",
    "        \"country\",\n",
    "        \"economic_status\",\n",
    "        \"education_level\",\n",
    "        \"year\",\n",
    "    ]\n",
    ")"
   ]
  },
  {
   "cell_type": "markdown",
   "id": "434150f9",
   "metadata": {},
   "source": [
    "Convert `poverty_rate_percent` to float to prepare for the next step:\n"
   ]
  },
  {
   "cell_type": "code",
   "execution_count": 45,
   "id": "530d95b6",
   "metadata": {},
   "outputs": [],
   "source": [
    "df_clean[\"poverty_rate_percent\"] = (\n",
    "    df_clean[\"poverty_rate_percent\"].str.rstrip(\"%\").astype(float)\n",
    ")"
   ]
  },
  {
   "cell_type": "markdown",
   "id": "cbc6a839",
   "metadata": {},
   "source": [
    "Replace the NA values with the mean of the columns for other data:\n"
   ]
  },
  {
   "cell_type": "code",
   "execution_count": 46,
   "id": "227bd438",
   "metadata": {},
   "outputs": [],
   "source": [
    "replace_column_names = [\n",
    "    \"population\",\n",
    "    \"health_expenditure_gdp\",\n",
    "    \"mortality_rate_per_thousand\",\n",
    "    \"life_expectancy\",\n",
    "    \"gdp_per_capita\",\n",
    "    \"healthcare_access_index\",\n",
    "    \"poverty_rate_percent\",\n",
    "    \"environmental_pollution_index\",\n",
    "    \"healthcare_quality_index\",\n",
    "]\n",
    "\n",
    "df_clean[replace_column_names] = df_clean[replace_column_names].fillna(\n",
    "    value=df_clean[replace_column_names].mean()\n",
    ")"
   ]
  },
  {
   "cell_type": "markdown",
   "id": "2600b44c",
   "metadata": {},
   "source": [
    "## Correct column types\n"
   ]
  },
  {
   "cell_type": "markdown",
   "id": "046302ec",
   "metadata": {},
   "source": [
    "Convert the `year`, `population` columns to integer:\n"
   ]
  },
  {
   "cell_type": "code",
   "execution_count": 47,
   "id": "27237ae9",
   "metadata": {},
   "outputs": [],
   "source": [
    "df_clean[[\"year\", \"population\"]] = df_clean[[\"year\", \"population\"]].astype(int)"
   ]
  },
  {
   "cell_type": "markdown",
   "id": "87b01526",
   "metadata": {},
   "source": [
    "## Correct spelling errors\n"
   ]
  },
  {
   "cell_type": "markdown",
   "id": "d0fe98f3",
   "metadata": {},
   "source": [
    "Clean `economic_status`, `education_level`, `cause_of_death` and `country` columns by correcting the spelling:\n"
   ]
  },
  {
   "cell_type": "code",
   "execution_count": 48,
   "id": "c51f4c04-0d35-4a2d-9383-7b7b63d0660a",
   "metadata": {},
   "outputs": [],
   "source": [
    "df_clean[[\"economic_status\", \"education_level\"]] = df_clean[\n",
    "    [\"economic_status\", \"education_level\"]\n",
    "].replace(\n",
    "    {\"high\": \"High\", \"l0w\": \"Low\", \"L0w\": \"Low\", \"low\": \"Low\", \"midd1e\": \"Middle\"}\n",
    ")\n",
    "\n",
    "df_clean[\"cause_of_death\"] = df_clean[\"cause_of_death\"].replace(\n",
    "    {\"Cardi0vascular\": \"Cardiovascular\", \"Infecti0us diseases\": \"Infectious diseases\"}\n",
    ")\n",
    "\n",
    "df_clean[\"country\"] = df_clean[\"country\"].str.replace(\"0\", \"o\")"
   ]
  },
  {
   "cell_type": "markdown",
   "id": "5f9fddd7",
   "metadata": {},
   "source": [
    "## Use absolute values\n"
   ]
  },
  {
   "cell_type": "markdown",
   "id": "07d9c3c8",
   "metadata": {},
   "source": [
    "Replace values in the `population` and `healthcare_quality_index` columns with the absolute values:\n"
   ]
  },
  {
   "cell_type": "code",
   "execution_count": 49,
   "id": "70eb187a",
   "metadata": {},
   "outputs": [],
   "source": [
    "df_clean[[\"population\", \"healthcare_quality_index\"]] = df_clean[\n",
    "    [\"population\", \"healthcare_quality_index\"]\n",
    "].abs()"
   ]
  },
  {
   "cell_type": "markdown",
   "id": "6a3ff5ae",
   "metadata": {},
   "source": [
    "## Save the cleaned data to a CSV file\n"
   ]
  },
  {
   "cell_type": "code",
   "execution_count": 50,
   "id": "ddc4d4ea-7cc6-4b90-847d-3567f9c26d00",
   "metadata": {},
   "outputs": [],
   "source": [
    "# Save to a new CSV file\n",
    "df_clean.to_csv(\"../dataset/clean.csv\", index=False)"
   ]
  }
 ],
 "metadata": {
  "kernelspec": {
   "display_name": ".venv",
   "language": "python",
   "name": "python3"
  },
  "language_info": {
   "codemirror_mode": {
    "name": "ipython",
    "version": 3
   },
   "file_extension": ".py",
   "mimetype": "text/x-python",
   "name": "python",
   "nbconvert_exporter": "python",
   "pygments_lexer": "ipython3",
   "version": "3.13.1"
  }
 },
 "nbformat": 4,
 "nbformat_minor": 5
}
