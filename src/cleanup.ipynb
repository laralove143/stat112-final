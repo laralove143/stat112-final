{
 "cells": [
  {
   "cell_type": "markdown",
   "id": "916d12a0",
   "metadata": {},
   "source": [
    "# Cleaning the dataset\n"
   ]
  },
  {
   "cell_type": "markdown",
   "id": "938bbee6",
   "metadata": {},
   "source": [
    "Load the dataset:\n"
   ]
  },
  {
   "cell_type": "code",
   "execution_count": 67,
   "id": "01190203-89a0-40a4-8965-1f93a4d4afd9",
   "metadata": {},
   "outputs": [],
   "source": [
    "import pandas as pd\n",
    "\n",
    "file_path = \"../dataset/dirty.csv\"\n",
    "df = pd.read_csv(file_path, delimiter=\";\")"
   ]
  },
  {
   "cell_type": "markdown",
   "id": "fccab7f8",
   "metadata": {},
   "source": [
    "## Clean Column Names\n"
   ]
  },
  {
   "cell_type": "markdown",
   "id": "a6e638eb",
   "metadata": {},
   "source": [
    "Standardize column names:\n"
   ]
  },
  {
   "cell_type": "code",
   "execution_count": 68,
   "id": "029f3f19-1c1c-4105-9c27-28668a583eb5",
   "metadata": {},
   "outputs": [],
   "source": [
    "df.columns = (\n",
    "    df.columns.str.lower()\n",
    "    .str.lstrip()\n",
    "    .str.rstrip()\n",
    "    .str.replace(\".\", \"_\")\n",
    "    .str.replace(\"-\", \"_\")\n",
    "    .str.replace(\" \", \"_\")\n",
    ")"
   ]
  },
  {
   "cell_type": "markdown",
   "id": "3fb8ee88",
   "metadata": {},
   "source": [
    "Rename specific columns:\n"
   ]
  },
  {
   "cell_type": "code",
   "execution_count": 69,
   "id": "d326912f",
   "metadata": {},
   "outputs": [],
   "source": [
    "df = df.rename(\n",
    "    columns={\n",
    "        \"agegroup\": \"age_group\",\n",
    "        \"health_expenditure%gdp\": \"health_expenditure_gdp\",\n",
    "        \"mortality_rate_per_1000\": \"mortality_rate_per_thousand\",\n",
    "        \"poverty_rate_%\": \"poverty_rate_percent\",\n",
    "    }\n",
    ")"
   ]
  },
  {
   "cell_type": "markdown",
   "id": "c994950f",
   "metadata": {},
   "source": [
    "Create variables for column names to be used later:\n"
   ]
  },
  {
   "cell_type": "code",
   "execution_count": 70,
   "id": "6b247900",
   "metadata": {},
   "outputs": [],
   "source": [
    "categorical_column_names = [\n",
    "    \"age_group\",\n",
    "    \"cause_of_death\",\n",
    "    \"country\",\n",
    "    \"economic_status\",\n",
    "    \"education_level\",\n",
    "    \"year\",\n",
    "]\n",
    "\n",
    "numerical_column_names = [\n",
    "    \"population\",\n",
    "    \"health_expenditure_gdp\",\n",
    "    \"mortality_rate_per_thousand\",\n",
    "    \"life_expectancy\",\n",
    "    \"gdp_per_capita\",\n",
    "    \"healthcare_access_index\",\n",
    "    \"poverty_rate_percent\",\n",
    "    \"environmental_pollution_index\",\n",
    "    \"healthcare_quality_index\",\n",
    "]"
   ]
  },
  {
   "cell_type": "markdown",
   "id": "8c086f8f",
   "metadata": {},
   "source": [
    "## Clean NA values\n"
   ]
  },
  {
   "cell_type": "markdown",
   "id": "1980e3d9",
   "metadata": {},
   "source": [
    "Remove NA values in categorical data:\n"
   ]
  },
  {
   "cell_type": "code",
   "execution_count": 71,
   "id": "67e544d4",
   "metadata": {},
   "outputs": [],
   "source": [
    "df = df.dropna(subset=categorical_column_names)"
   ]
  },
  {
   "cell_type": "markdown",
   "id": "434150f9",
   "metadata": {},
   "source": [
    "Convert `poverty_rate_percent` to float to prepare for the next step:\n"
   ]
  },
  {
   "cell_type": "code",
   "execution_count": 72,
   "id": "530d95b6",
   "metadata": {},
   "outputs": [],
   "source": [
    "df[\"poverty_rate_percent\"] = df[\"poverty_rate_percent\"].str.rstrip(\"%\").astype(float)"
   ]
  },
  {
   "cell_type": "markdown",
   "id": "cbc6a839",
   "metadata": {},
   "source": [
    "Replace the NA values with the mean of the columns for other data:\n"
   ]
  },
  {
   "cell_type": "code",
   "execution_count": 73,
   "id": "227bd438",
   "metadata": {},
   "outputs": [],
   "source": [
    "df[numerical_column_names] = df[numerical_column_names].fillna(\n",
    "    value=df[numerical_column_names].mean()\n",
    ")"
   ]
  },
  {
   "cell_type": "markdown",
   "id": "2600b44c",
   "metadata": {},
   "source": [
    "## Correct column types\n"
   ]
  },
  {
   "cell_type": "markdown",
   "id": "046302ec",
   "metadata": {},
   "source": [
    "Convert the `year`, `population` columns to integer:\n"
   ]
  },
  {
   "cell_type": "code",
   "execution_count": 74,
   "id": "27237ae9",
   "metadata": {},
   "outputs": [],
   "source": [
    "df[[\"year\", \"population\"]] = df[[\"year\", \"population\"]].astype(int)"
   ]
  },
  {
   "cell_type": "markdown",
   "id": "06006566",
   "metadata": {},
   "source": [
    "Check the data types and raise an error if any are incorrect:\n"
   ]
  },
  {
   "cell_type": "code",
   "execution_count": 85,
   "id": "3c123658",
   "metadata": {},
   "outputs": [],
   "source": [
    "expected_dtypes = {\n",
    "    \"year\": \"int64\",\n",
    "    \"country\": \"object\",\n",
    "    \"age_group\": \"object\",\n",
    "    \"cause_of_death\": \"object\",\n",
    "    \"economic_status\": \"object\",\n",
    "    \"health_expenditure_gdp\": \"float64\",\n",
    "    \"mortality_rate_per_thousand\": \"float64\",\n",
    "    \"life_expectancy\": \"float64\",\n",
    "    \"education_level\": \"object\",\n",
    "    \"population\": \"int64\",\n",
    "    \"gdp_per_capita\": \"float64\",\n",
    "    \"healthcare_access_index\": \"float64\",\n",
    "    \"poverty_rate_percent\": \"float64\",\n",
    "    \"healthcare_quality_index\": \"float64\",\n",
    "    \"environmental_pollution_index\": \"float64\",\n",
    "}\n",
    "\n",
    "for column, expected_type in expected_dtypes.items():\n",
    "    if df[column].dtype != expected_type:\n",
    "        msg = (\n",
    "            f\"Column {column} has incorrect dtype. \"\n",
    "            f\"Expected {expected_type}, got {df[column].dtype}\"\n",
    "        )\n",
    "        raise Exception(msg)"
   ]
  },
  {
   "cell_type": "markdown",
   "id": "87b01526",
   "metadata": {},
   "source": [
    "## Correct spelling errors\n"
   ]
  },
  {
   "cell_type": "markdown",
   "id": "d0fe98f3",
   "metadata": {},
   "source": [
    "Clean `economic_status`, `education_level`, `cause_of_death` and `country` columns by correcting the spelling:\n"
   ]
  },
  {
   "cell_type": "code",
   "execution_count": 75,
   "id": "c51f4c04-0d35-4a2d-9383-7b7b63d0660a",
   "metadata": {},
   "outputs": [],
   "source": [
    "df[[\"economic_status\", \"education_level\"]] = df[\n",
    "    [\"economic_status\", \"education_level\"]\n",
    "].replace(\n",
    "    {\"high\": \"High\", \"l0w\": \"Low\", \"L0w\": \"Low\", \"low\": \"Low\", \"midd1e\": \"Middle\"}\n",
    ")\n",
    "\n",
    "df[\"cause_of_death\"] = df[\"cause_of_death\"].replace(\n",
    "    {\"Cardi0vascular\": \"Cardiovascular\", \"Infecti0us diseases\": \"Infectious diseases\"}\n",
    ")\n",
    "\n",
    "df[\"country\"] = df[\"country\"].str.replace(\"0\", \"o\")"
   ]
  },
  {
   "cell_type": "markdown",
   "id": "5f9fddd7",
   "metadata": {},
   "source": [
    "## Use absolute values\n"
   ]
  },
  {
   "cell_type": "markdown",
   "id": "07d9c3c8",
   "metadata": {},
   "source": [
    "Replace values in the `population` and `healthcare_quality_index` columns with the absolute values:\n"
   ]
  },
  {
   "cell_type": "code",
   "execution_count": 76,
   "id": "70eb187a",
   "metadata": {},
   "outputs": [],
   "source": [
    "df[[\"population\", \"healthcare_quality_index\"]] = df[\n",
    "    [\"population\", \"healthcare_quality_index\"]\n",
    "].abs()"
   ]
  },
  {
   "cell_type": "markdown",
   "id": "c7ab3d8b",
   "metadata": {},
   "source": [
    "## Check outliers\n"
   ]
  },
  {
   "cell_type": "markdown",
   "id": "1785ee63",
   "metadata": {},
   "source": [
    "Check for outliers in the numerical columns and raise an error if any exist:\n"
   ]
  },
  {
   "cell_type": "code",
   "execution_count": 80,
   "id": "e950e336",
   "metadata": {},
   "outputs": [],
   "source": [
    "for column_name in numerical_column_names:\n",
    "    q1 = df[column_name].quantile(0.25)\n",
    "    q3 = df[column_name].quantile(0.75)\n",
    "    iqr = q3 - q1\n",
    "\n",
    "    lower_bound = q1 - 1.5 * iqr\n",
    "    upper_bound = q3 + 1.5 * iqr\n",
    "\n",
    "    outliers = df[(df[column_name] < lower_bound) | (df[column_name] > upper_bound)][\n",
    "        column_name\n",
    "    ]\n",
    "\n",
    "    if not outliers.empty:\n",
    "        msg = \"Found outliers\"\n",
    "        raise Exception(msg)"
   ]
  },
  {
   "cell_type": "markdown",
   "id": "6a3ff5ae",
   "metadata": {},
   "source": [
    "## Save the cleaned data to a CSV file\n"
   ]
  },
  {
   "cell_type": "code",
   "execution_count": 78,
   "id": "ddc4d4ea-7cc6-4b90-847d-3567f9c26d00",
   "metadata": {},
   "outputs": [],
   "source": [
    "# Save to a new CSV file\n",
    "df.to_csv(\"../dataset/clean.csv\", index=False)"
   ]
  }
 ],
 "metadata": {
  "kernelspec": {
   "display_name": ".venv",
   "language": "python",
   "name": "python3"
  },
  "language_info": {
   "codemirror_mode": {
    "name": "ipython",
    "version": 3
   },
   "file_extension": ".py",
   "mimetype": "text/x-python",
   "name": "python",
   "nbconvert_exporter": "python",
   "pygments_lexer": "ipython3",
   "version": "3.13.1"
  }
 },
 "nbformat": 4,
 "nbformat_minor": 5
}
